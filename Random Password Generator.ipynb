{
 "cells": [
  {
   "cell_type": "code",
   "execution_count": 6,
   "id": "5349c733",
   "metadata": {},
   "outputs": [
    {
     "data": {
      "text/plain": [
       "'Q,|uq6wc*K+$'"
      ]
     },
     "execution_count": 6,
     "metadata": {},
     "output_type": "execute_result"
    }
   ],
   "source": [
    "import random\n",
    "import string\n",
    "\n",
    "def generate_password(length=12):\n",
    "    # Define the characters to include in the password\n",
    "    characters = string.ascii_letters + string.digits + string.punctuation\n",
    "    \n",
    "    # Generate a random password using the defined characters\n",
    "    password = ''.join(random.choice(characters) for _ in range(length))\n",
    "    \n",
    "    return password\n",
    "\n",
    "generate_password()\n"
   ]
  },
  {
   "cell_type": "code",
   "execution_count": 7,
   "id": "86c7d394",
   "metadata": {},
   "outputs": [
    {
     "data": {
      "text/plain": [
       "'Upfo~QQ9?R[|'"
      ]
     },
     "execution_count": 7,
     "metadata": {},
     "output_type": "execute_result"
    }
   ],
   "source": [
    "def generate_password(length=12):\n",
    "    # Define the characters to include in each category\n",
    "    uppercase_letters = string.ascii_uppercase\n",
    "    lowercase_letters = string.ascii_lowercase\n",
    "    digits = string.digits\n",
    "    special_characters = string.punctuation\n",
    "    \n",
    "    # Make sure each category is represented at least once\n",
    "    password = (\n",
    "        random.choice(uppercase_letters) +\n",
    "        random.choice(lowercase_letters) +\n",
    "        random.choice(digits) +\n",
    "        random.choice(special_characters)\n",
    "    )\n",
    "    # Fill the rest of the password with random characters\n",
    "    remaining_length = length - 4\n",
    "    password += ''.join(random.choice(string.ascii_letters + string.digits + string.punctuation) for _ in range(remaining_length))\n",
    "\n",
    "    # Shuffle the password to make it random\n",
    "    password_list = list(password)\n",
    "    random.shuffle(password_list)\n",
    "    password = ''.join(password_list)\n",
    "    \n",
    "    return password\n",
    "\n",
    "generate_password()"
   ]
  },
  {
   "cell_type": "code",
   "execution_count": null,
   "id": "0bf608d4",
   "metadata": {},
   "outputs": [],
   "source": []
  }
 ],
 "metadata": {
  "kernelspec": {
   "display_name": "Python 3 (ipykernel)",
   "language": "python",
   "name": "python3"
  },
  "language_info": {
   "codemirror_mode": {
    "name": "ipython",
    "version": 3
   },
   "file_extension": ".py",
   "mimetype": "text/x-python",
   "name": "python",
   "nbconvert_exporter": "python",
   "pygments_lexer": "ipython3",
   "version": "3.11.5"
  }
 },
 "nbformat": 4,
 "nbformat_minor": 5
}
