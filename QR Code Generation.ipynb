{
 "cells": [
  {
   "cell_type": "code",
   "execution_count": 1,
   "id": "3876457b",
   "metadata": {},
   "outputs": [
    {
     "name": "stdout",
     "output_type": "stream",
     "text": [
      "Collecting qrcode[pil]\n",
      "  Downloading qrcode-7.4.2-py3-none-any.whl (46 kB)\n",
      "     ---------------------------------------- 0.0/46.2 kB ? eta -:--:--\n",
      "     -------- ------------------------------- 10.2/46.2 kB ? eta -:--:--\n",
      "     ---------------- --------------------- 20.5/46.2 kB 330.3 kB/s eta 0:00:01\n",
      "     -------------------------------------- 46.2/46.2 kB 461.0 kB/s eta 0:00:00\n",
      "Requirement already satisfied: typing-extensions in c:\\users\\tobun\\anaconda3\\lib\\site-packages (from qrcode[pil]) (4.7.1)\n",
      "Collecting pypng (from qrcode[pil])\n",
      "  Downloading pypng-0.20220715.0-py3-none-any.whl (58 kB)\n",
      "     ---------------------------------------- 0.0/58.1 kB ? eta -:--:--\n",
      "     --------------------- ------------------ 30.7/58.1 kB 1.3 MB/s eta 0:00:01\n",
      "     -------------------------------------- 58.1/58.1 kB 759.0 kB/s eta 0:00:00\n",
      "Requirement already satisfied: colorama in c:\\users\\tobun\\anaconda3\\lib\\site-packages (from qrcode[pil]) (0.4.6)\n",
      "Requirement already satisfied: pillow>=9.1.0 in c:\\users\\tobun\\anaconda3\\lib\\site-packages (from qrcode[pil]) (9.4.0)\n",
      "Installing collected packages: pypng, qrcode\n",
      "Successfully installed pypng-0.20220715.0 qrcode-7.4.2\n",
      "Note: you may need to restart the kernel to use updated packages.\n"
     ]
    }
   ],
   "source": [
    "pip install qrcode[pil]\n"
   ]
  },
  {
   "cell_type": "code",
   "execution_count": 2,
   "id": "3101dc6d",
   "metadata": {},
   "outputs": [],
   "source": [
    "import qrcode\n",
    "\n",
    "# Create a QR code instance\n",
    "qr = qrcode.QRCode(\n",
    "    version=1,  # QR code version (1 to 40, higher is denser)\n",
    "    error_correction=qrcode.constants.ERROR_CORRECT_L,  # Error correction level\n",
    "    box_size=10,  # Size of each QR code \"box\" in pixels\n",
    "    border=4,  # Border around the QR code (4 is a good default)\n",
    ")\n",
    "\n",
    "# Add data to the QR code (in this case, a URL)\n",
    "data = \"https://www.bethmedia.com\"\n",
    "qr.add_data(data)\n",
    "\n",
    "# Make the QR code\n",
    "qr.make(fit=True)\n",
    "\n",
    "# Create an Image object from the QR code instance\n",
    "img = qr.make_image(fill_color=\"black\", back_color=\"white\")\n",
    "\n",
    "# Save or display the QR code image\n",
    "img.save(\"example.png\")\n",
    "img.show()\n"
   ]
  },
  {
   "cell_type": "code",
   "execution_count": null,
   "id": "55050e6e",
   "metadata": {},
   "outputs": [],
   "source": []
  }
 ],
 "metadata": {
  "kernelspec": {
   "display_name": "Python 3 (ipykernel)",
   "language": "python",
   "name": "python3"
  },
  "language_info": {
   "codemirror_mode": {
    "name": "ipython",
    "version": 3
   },
   "file_extension": ".py",
   "mimetype": "text/x-python",
   "name": "python",
   "nbconvert_exporter": "python",
   "pygments_lexer": "ipython3",
   "version": "3.11.5"
  }
 },
 "nbformat": 4,
 "nbformat_minor": 5
}
